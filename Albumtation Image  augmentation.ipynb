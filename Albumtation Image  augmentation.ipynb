{
 "cells": [
  {
   "cell_type": "code",
   "execution_count": null,
   "id": "103d38f9",
   "metadata": {},
   "outputs": [],
   "source": [
    "import os\n",
    "from PIL import Image\n",
    "import numpy as np\n",
    "import albumentations as A\n",
    "import xml.etree.ElementTree as ET\n",
    "from matplotlib import pyplot as plt\n",
    "import cv2\n",
    "import shutil\n",
    "%matplotlib inline"
   ]
  },
  {
   "cell_type": "code",
   "execution_count": null,
   "id": "0fd76671",
   "metadata": {},
   "outputs": [],
   "source": [
    "folder_path = os.path.join('D:\\\\','OneDrive', 'Tensorflow', 'Image_0306','train3')"
   ]
  },
  {
   "cell_type": "code",
   "execution_count": null,
   "id": "5ca7ce25",
   "metadata": {},
   "outputs": [],
   "source": [
    "dirs = os.listdir( folder_path )"
   ]
  },
  {
   "cell_type": "code",
   "execution_count": null,
   "id": "059aba95",
   "metadata": {},
   "outputs": [],
   "source": [
    "class_labels =  ['Wood']"
   ]
  },
  {
   "cell_type": "code",
   "execution_count": null,
   "id": "79c9e29c",
   "metadata": {},
   "outputs": [],
   "source": [
    "def get_boxes_coordinate(file) :\n",
    "    coordinate_boxes = []\n",
    "    tree = ET.parse(file)\n",
    "    root = tree.getroot()\n",
    "    for child in root:\n",
    "        if child.tag == \"object\":\n",
    "            box = child[4]\n",
    "            if box is not None:\n",
    "                ordinate = [box[0].text,box[0].text,box[0].text,box[0].text,class_labels[0]]\n",
    "                coordinate_boxes.append(ordinate)\n",
    "    return coordinate_boxes\n",
    "            "
   ]
  },
  {
   "cell_type": "code",
   "execution_count": null,
   "id": "41305c1f",
   "metadata": {},
   "outputs": [],
   "source": [
    "def override_xml_content(file,img_file_name,image_file_path) :\n",
    "    tree = ET.parse(file)\n",
    "    root = tree.getroot()\n",
    "    root[1].text = img_file_name\n",
    "    root[2].text = image_file_path\n",
    "    tree.write(file)"
   ]
  },
  {
   "cell_type": "code",
   "execution_count": null,
   "id": "9dbd2d70",
   "metadata": {},
   "outputs": [],
   "source": [
    "random_weather = {\n",
    "    \"RandomRain\" : lambda : A.RandomRain(brightness_coefficient = 0.9,drop_width=1,blur_value =5 , p = 1 ),\n",
    "#     \"RandomSnow\" :  lambda : A.RandomSnow(brightness_coeff=2.5,snow_point_lower=0.3,snow_point_upper=0.5,p=1),\n",
    "    \"RandomSunFlare\" :  lambda : A.RandomSunFlare(flare_roi=(0, 0, 1, 0.5),angle_lower = 0.5,p=1),\n",
    "    \"RandomShadow\" :  lambda : A.RandomShadow(num_shadows_lower=1,num_shadows_upper=1,shadow_dimension=5,shadow_roi=(0, 0.5, 1, 1),p=1),\n",
    "#     \"RandomFog\" :  lambda : A.RandomFog(fog_coef_lower=0.7,fog_coef_upper=0.8,p=1),\n",
    "#     \"Light\" : [lambda :A.RandomBrightnessContrast(p=1),lambda :A.RandomGamma(p=1),lambda :A.CLAHE(p=1)],\n",
    "#     \"HueSaturation\": lambda : A.ChannelShuffle(p=1),\n",
    "}"
   ]
  },
  {
   "cell_type": "code",
   "execution_count": null,
   "id": "e57607b8",
   "metadata": {
    "scrolled": true
   },
   "outputs": [],
   "source": [
    "for item in dirs:\n",
    "        file_path = folder_path+\"\\\\\"+item\n",
    "        if os.path.isfile(file_path):\n",
    "            if file_path.endswith(('.png', '.jpg', '.jpeg')) :\n",
    "                image = cv2.imread(file_path)\n",
    "                bboxes = get_boxes_coordinate(file_path.replace('jpg','xml'))\n",
    "                for attr, value in random_weather.items() : \n",
    "                    compose_inside = []\n",
    "                    if type(value) == list : \n",
    "                        for val in value :\n",
    "                            compose_inside.append(val())\n",
    "                    else :\n",
    "                        compose_inside.append(value())\n",
    "                    transform = A.Compose(compose_inside, bbox_params=A.BboxParams(format='pascal_voc'))\n",
    "                    transformed = transform(image=image, bboxes=bboxes)\n",
    "                    new_img_aumentation_name = item.replace('.jpg','')+ \"_\" + attr + '.jpg'\n",
    "                    augmentation_name = folder_path + \"\\\\\" + new_img_aumentation_name\n",
    "                    print(\"save file to : {0}\".format(augmentation_name))\n",
    "                    xml_item = item.replace('jpg','xml')\n",
    "                    print(xml_item)\n",
    "                    new_xml_name = xml_item.replace('.xml','')+ \"_\"+attr + '.xml'\n",
    "                    new_xml_path = folder_path+\"\\\\\" + new_xml_name\n",
    "                    shutil.copyfile(folder_path+\"\\\\\"+xml_item, new_xml_path)\n",
    "                    override_xml_content(new_xml_path,new_img_aumentation_name,augmentation_name)\n",
    "                    cv2.imwrite(augmentation_name,transformed['image'])"
   ]
  },
  {
   "cell_type": "code",
   "execution_count": null,
   "id": "daac1a1f",
   "metadata": {},
   "outputs": [],
   "source": []
  }
 ],
 "metadata": {
  "kernelspec": {
   "display_name": "tfodj",
   "language": "python",
   "name": "tfodj"
  },
  "language_info": {
   "codemirror_mode": {
    "name": "ipython",
    "version": 3
   },
   "file_extension": ".py",
   "mimetype": "text/x-python",
   "name": "python",
   "nbconvert_exporter": "python",
   "pygments_lexer": "ipython3",
   "version": "3.8.8"
  }
 },
 "nbformat": 4,
 "nbformat_minor": 5
}
